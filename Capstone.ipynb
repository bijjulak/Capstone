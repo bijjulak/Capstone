{
 "cells": [
  {
   "cell_type": "markdown",
   "id": "2b70c8a0",
   "metadata": {},
   "source": [
    "The goal here is to develop a system for automatic playlist continuation given data on numerous existing playlists. The dataset is the Million Playlist Dataset from Spotify. The data consists of 1000 json files, each containing a 1000 playlists. Due to computational constraints, I will limit the data to 50 files (50000 playlists) chosen at random. The first objective is to read the files and build a dataframe that maps playlists to the songs/tracks. "
   ]
  },
  {
   "cell_type": "code",
   "execution_count": 663,
   "id": "83d23177",
   "metadata": {},
   "outputs": [],
   "source": [
    "import os\n",
    "import numpy as np\n",
    "import pandas as pd\n",
    "import json\n",
    "\n",
    "from tqdm import tqdm\n",
    "import heapq\n",
    "import pprint as pp\n",
    "from sklearn import metrics, datasets\n",
    "\n",
    "from sklearn.preprocessing import PolynomialFeatures\n",
    "\n",
    "import matplotlib\n",
    "import matplotlib.pyplot as plt\n",
    "import random\n",
    "from scipy.sparse import dok_matrix\n",
    "from collections import defaultdict\n",
    "from sklearn.neighbors import NearestNeighbors\n"
   ]
  },
  {
   "cell_type": "markdown",
   "id": "14c54812",
   "metadata": {},
   "source": [
    "# Data compilation"
   ]
  },
  {
   "cell_type": "code",
   "execution_count": 664,
   "id": "6aa9db8b",
   "metadata": {},
   "outputs": [],
   "source": [
    "#Number of json files to use for this analysis. Each file has 1000 playlists\n",
    "NumToParse = 50\n",
    "jsonpath = \"C:/users/kbijjula/Documents/Python/AI-course/Module-24/\""
   ]
  },
  {
   "cell_type": "code",
   "execution_count": 665,
   "id": "00f54775",
   "metadata": {},
   "outputs": [],
   "source": [
    "#functions to be used in code below\n",
    "\n",
    "#function to parse uri\n",
    "def parseURI(uri):\n",
    "    return uri.split(\":\")[2]\n",
    "\n",
    "#Create Sparse matrix mapping tracks and playlists\n",
    "def Sparse_PL_track(playlists, tracks):\n",
    "    # List of all track IDs\n",
    "    trackIDs = list(tracks[\"tid\"])\n",
    "\n",
    "    # Map track id to matrix index\n",
    "    IDtoIDX = {k:v for k,v in zip(trackIDs,range(0,len(trackIDs)))}\n",
    "    \n",
    "    playlistIDs = list(playlists[\"pid\"])\n",
    "\n",
    "    print(\"Create sparse matrix mapping playlists to tracks\")\n",
    "    SparsePlaylistTrack = dok_matrix((len(playlistIDs), len(trackIDs)), dtype=np.float32)\n",
    "\n",
    "    for i in tqdm(range(len(playlistIDs)),position=0, leave=True):\n",
    "        # Get playlist and track ids from DF\n",
    "        playlistID = playlistIDs[i]\n",
    "\n",
    "        trackID = playlists.loc[playlists.index[playlists['pid'] == playlistID][0]][\"tracks\"]\n",
    "\n",
    "        playlistIDX = playlists.index[playlists['pid'] == playlistID][0]\n",
    "        \n",
    "        # Get matrix index for track id\n",
    "        trackIDX = [IDtoIDX.get(i) for i in trackID]\n",
    "        \n",
    "        SparsePlaylistTrack[playlistIDX, trackIDX] = 1 \n",
    "\n",
    "    return SparsePlaylistTrack.tocsr(), IDtoIDX"
   ]
  },
  {
   "cell_type": "code",
   "execution_count": 666,
   "id": "53a52375",
   "metadata": {},
   "outputs": [],
   "source": [
    "#Function to build the dataframe that maps playlists to tracks for a given set of json files\n",
    "def build_dataframe(numFiles, path, jsonsamplefiles):\n",
    "\n",
    "    files = jsonsamplefiles\n",
    "\n",
    "    tracks_in_PL = set()\n",
    "    playlist_list = []\n",
    "    track_list = []\n",
    "\n",
    "    print(\"Creating track and playlist DFs\")\n",
    "    for i, FILE in enumerate(tqdm(files,position=0, leave=True)):\n",
    "\n",
    "        # get full path to file\n",
    "        name = path + FILE \n",
    "        with open(name) as f:\n",
    "            data = json.load(f)\n",
    "            playlists = data[\"playlists\"]\n",
    "\n",
    "            for playlist in playlists:\n",
    "                for track in playlist[\"tracks\"]:\n",
    "                    if track[\"track_uri\"] not in tracks_in_PL:\n",
    "                        tracks_in_PL.add(track[\"track_uri\"])\n",
    "                        track_list.append(track)\n",
    "                playlist[\"tracks\"] = [parseURI(x[\"track_uri\"]) for x in playlist[\"tracks\"]]\n",
    "                playlist_list.append(playlist)\n",
    "\n",
    "\n",
    "    playlistDF = pd.DataFrame(playlist_list)\n",
    "\n",
    "    tracksDF = pd.DataFrame(track_list)\n",
    "\n",
    "    # Remove spotify text from URI\n",
    "    tracksDF[\"tid\"] = tracksDF.apply(lambda row: parseURI(row[\"track_uri\"]), axis=1)\n",
    "          \n",
    "    SparseDF, IDtoIDXMap = Sparse_PL_track(playlists=playlistDF, tracks=tracksDF)\n",
    "\n",
    "    # Add sparseID \n",
    "    tracksDF[\"sparse_id\"] = tracksDF.apply(lambda row: IDtoIDXMap[row[\"tid\"]], axis=1)\n",
    "    tracksDF = tracksDF.set_index(\"tid\")\n",
    "    \n",
    "    return playlistDF, tracksDF, SparseDF"
   ]
  },
  {
   "cell_type": "code",
   "execution_count": 667,
   "id": "da6133db",
   "metadata": {
    "scrolled": true
   },
   "outputs": [
    {
     "name": "stdout",
     "output_type": "stream",
     "text": [
      "[ 37 235 908  72 767 905 715 645 847 960 144 129 972 583 749 508 390 281\n",
      " 178 276 254 357 914 468 907 252 490 668 925 398 562 580 215 983 753 503\n",
      " 478 864  86 141 393   7 319 829 534 313 513 896 316 209]\n",
      "Creating track and playlist DFs\n"
     ]
    },
    {
     "name": "stderr",
     "output_type": "stream",
     "text": [
      "100%|██████████████████████████████████████████████████████████████████████████████████| 50/50 [00:14<00:00,  3.44it/s]\n"
     ]
    },
    {
     "name": "stdout",
     "output_type": "stream",
     "text": [
      "Create sparse matrix mapping playlists to tracks\n"
     ]
    },
    {
     "name": "stderr",
     "output_type": "stream",
     "text": [
      "100%|██████████████████████████████████████████████████████████████████████████| 50000/50000 [00:32<00:00, 1529.27it/s]\n"
     ]
    },
    {
     "name": "stdout",
     "output_type": "stream",
     "text": [
      "Working with 50000 playlists and 467839 songs\n"
     ]
    }
   ],
   "source": [
    "\"\"\"\n",
    "Pick random files to be used in the analysis\n",
    "\"\"\"\n",
    "#random number generator\n",
    "np.random.seed(seed = 1)\n",
    "numbers = np.arange(0,1000,1)\n",
    "sample = np.random.choice(numbers, size=NumToParse, replace=True)\n",
    "\n",
    "print(sample)\n",
    "#list all files in the json directory\n",
    "jsonfiles = os.listdir(\"C:/users/kbijjula/Documents/Python/AI-course/Module-24/mpd/data\")\n",
    "\n",
    "\n",
    "#get sample files    \n",
    "sample_files = [''] * NumToParse\n",
    "for number in range(NumToParse):\n",
    "    sample_files[number] = jsonfiles[sample[number]]\n",
    "\n",
    "Allplaylists, Alltracks, SparsePL = build_dataframe(numFiles=NumToParse,\n",
    "    path=jsonpath+\"mpd/data/\",\n",
    "    jsonsamplefiles=sample_files)\n",
    "\n",
    "print(f\"Working with {len(Allplaylists)} playlists \" + f\"and {len(Alltracks)} songs\")"
   ]
  },
  {
   "cell_type": "markdown",
   "id": "822ae51e",
   "metadata": {},
   "source": [
    "# Exploratory Data Analysis"
   ]
  },
  {
   "cell_type": "markdown",
   "id": "1b62302c",
   "metadata": {},
   "source": [
    "***Artists with the most number of tracks in the selected playlists***"
   ]
  },
  {
   "cell_type": "code",
   "execution_count": 655,
   "id": "3ecbf11a",
   "metadata": {},
   "outputs": [
    {
     "data": {
      "image/png": "[encoded data removed]",
      "text/plain": [
       "<Figure size 1224x576 with 1 Axes>"
      ]
     },
     "metadata": {
      "needs_background": "light"
     },
     "output_type": "display_data"
    }
   ],
   "source": [
    "fig, ax = plt.subplots(figsize=(17,8))\n",
    "plt.title(\"Top 20 artists by total number of tracks in selected 50000 Playlists\")\n",
    "Alltracks.artist_name.value_counts().head(20).plot(ax=ax, kind='barh', xlabel='Artists', ylabel='Total Number of tracks')\n",
    "plt.show()"
   ]
  },
  {
   "cell_type": "markdown",
   "id": "75ac98d9",
   "metadata": {},
   "source": [
    "***Artists that occur in the most number of playlists in the selected playlists***"
   ]
  },
  {
   "cell_type": "code",
   "execution_count": 593,
   "id": "5d61a362",
   "metadata": {},
   "outputs": [],
   "source": [
    "artistsbyPL = {}\n",
    "for PLindex, PLrow in Allplaylists.iterrows():\n",
    "    for trackID in PLrow['tracks']:\n",
    "        artist_in_PL = Alltracks.loc[trackID]['artist_name']\n",
    "        if artist_in_PL in artistsbyPL: \n",
    "            artistsbyPL[artist_in_PL] += 1\n",
    "        else: \n",
    "            artistsbyPL[artist_in_PL] = 1\n",
    "artistsbyPLdf=pd.DataFrame(artistsbyPL.items(), columns=['artist_name', 'Num_of_playlists'])\n",
    "sortedartistsbyPLdf = artistsbyPLdf.sort_values(by=['Num_of_playlists'],ascending=False,ignore_index=True)\n",
    "Top20sortedartistsbyPLdf=sortedartistsbyPLdf.head(20)"
   ]
  },
  {
   "cell_type": "code",
   "execution_count": 660,
   "id": "84f57832",
   "metadata": {},
   "outputs": [
    {
     "data": {
      "image/png": "[encoded data removed]",
      "text/plain": [
       "<Figure size 1224x576 with 1 Axes>"
      ]
     },
     "metadata": {
      "needs_background": "light"
     },
     "output_type": "display_data"
    }
   ],
   "source": [
    "fig, ax = plt.subplots(figsize=(17,8))\n",
    "plt.barh(Top20sortedartistsbyPLdf['artist_name'], Top20sortedartistsbyPLdf['Num_of_playlists'])\n",
    "plt.title(\"Top 20 artists by most playlist occurences in selected 50000 Playlists\")\n",
    "plt.ylabel(\"Total Playlist Occurences\")\n",
    "plt.xticks(rotation='vertical')\n",
    "plt.show()"
   ]
  },
  {
   "cell_type": "markdown",
   "id": "f9212bb6",
   "metadata": {},
   "source": [
    "***Most popular track***"
   ]
  },
  {
   "cell_type": "code",
   "execution_count": 595,
   "id": "244cd6b1",
   "metadata": {},
   "outputs": [
    {
     "data": {
      "image/png": "[encoded data removed]",
      "text/plain": [
       "<Figure size 1224x576 with 1 Axes>"
      ]
     },
     "metadata": {
      "needs_background": "light"
     },
     "output_type": "display_data"
    }
   ],
   "source": [
    "fig, ax = plt.subplots(figsize=(17,8))\n",
    "plt.title(\"Top 40 tracks by total number of occurences in selected 50000 Playlists\")\n",
    "Alltracks.track_name.value_counts().head(50).plot(ax=ax, kind='bar', xlabel='Track name', ylabel='Total Number of occurences')\n",
    "plt.show()"
   ]
  },
  {
   "cell_type": "markdown",
   "id": "ad435b6b",
   "metadata": {},
   "source": [
    "***Number of tracks in a playlist***"
   ]
  },
  {
   "cell_type": "code",
   "execution_count": 661,
   "id": "33a7adbf",
   "metadata": {},
   "outputs": [
    {
     "data": {
      "text/plain": [
       "(array([14912., 12100.,  7735.,  4767.,  3443.,  2225.,  1814.,  1273.,\n",
       "         1035.,   696.]),\n",
       " array([  5. ,  29.5,  54. ,  78.5, 103. , 127.5, 152. , 176.5, 201. ,\n",
       "        225.5, 250. ]),\n",
       " <BarContainer object of 10 artists>)"
      ]
     },
     "execution_count": 661,
     "metadata": {},
     "output_type": "execute_result"
    },
    {
     "data": {
      "image/png": "[encoded data removed]",
      "text/plain": [
       "<Figure size 720x576 with 1 Axes>"
      ]
     },
     "metadata": {
      "needs_background": "light"
     },
     "output_type": "display_data"
    }
   ],
   "source": [
    "fig, ax = plt.subplots(figsize=(10,8))\n",
    "plt.title(\"Distribution of tracks in the playlists\")\n",
    "plt.ylabel(\"No. of tracks\")\n",
    "plt.xlabel(\"No. of playlists\")\n",
    "plt.hist(Allplaylists.num_tracks)"
   ]
  },
  {
   "cell_type": "markdown",
   "id": "0602ca05",
   "metadata": {},
   "source": [
    "# Select playlists for testing"
   ]
  },
  {
   "cell_type": "markdown",
   "id": "408ae1c5",
   "metadata": {},
   "source": [
    "From the remaining 950 json files, one file is chosen at random and 30 playlists will be selected to be the testing dataset. Training is done on the originally sampled 50000 playlists. A check is done to make sure that all the tracks in the test dataset exists in the training dataset. For the 30 playlists, 50% of the songs will be obscured. Based on the remiaing 50% of the songs, predictions will be made and the predictions will be compared to the full non-obscured playlist."
   ]
  },
  {
   "cell_type": "code",
   "execution_count": 668,
   "id": "65a166e3",
   "metadata": {},
   "outputs": [
    {
     "name": "stdout",
     "output_type": "stream",
     "text": [
      "number of test playlists: 30\n"
     ]
    }
   ],
   "source": [
    "testplaylist_list = []\n",
    "Testalltracks = list(Alltracks.index.values)\n",
    "\n",
    "\n",
    "while (len(testplaylist_list) < 30):\n",
    "    res = random.choice(list(set(range(0, len(jsonfiles)-1))-set(sample)))\n",
    "    testfilename = jsonpath + \"mpd/data/\" + jsonfiles[res]\n",
    "    with open(testfilename) as fname:\n",
    "            data = json.load(fname)\n",
    "            testplaylists = data[\"playlists\"]\n",
    "            # for each playlist\n",
    "            for testplaylist in testplaylists:\n",
    "                testplaylist[\"tracks\"] = [parseURI(x[\"track_uri\"]) for x in testplaylist[\"tracks\"]]\n",
    "                if set(testplaylist[\"tracks\"]).issubset(set(Testalltracks)):\n",
    "                    testplaylist_list.append(testplaylist)\n",
    "                if len(testplaylist_list)>=30:\n",
    "                    break\n",
    "            else:\n",
    "                continue\n",
    "print('number of test playlists:',len(testplaylist_list))\n",
    "\n",
    "testplaylistDF = pd.DataFrame(testplaylist_list)"
   ]
  },
  {
   "cell_type": "code",
   "execution_count": null,
   "id": "e12cc94a",
   "metadata": {},
   "outputs": [],
   "source": []
  },
  {
   "cell_type": "markdown",
   "id": "e52e358f",
   "metadata": {},
   "source": [
    "# Models"
   ]
  },
  {
   "cell_type": "markdown",
   "id": "66391a19",
   "metadata": {},
   "source": [
    "***Baseline (popularity) model***"
   ]
  },
  {
   "cell_type": "code",
   "execution_count": 669,
   "id": "276e6e55",
   "metadata": {},
   "outputs": [],
   "source": [
    "def obscurePlaylist(playlist, obscurity): \n",
    "    k = int(len(playlist['tracks']) * obscurity)\n",
    "    indices = random.sample(range(len(playlist['tracks'])), k)\n",
    "\n",
    "    obscured = [playlist['tracks'][i] for i in indices]\n",
    "    tracks = [i for i in playlist['tracks'] + obscured if i not in playlist['tracks'] or i not in obscured]\n",
    "    return tracks, obscured\n",
    "    \n",
    "def baselinepredictNeighbour(playlist, numPredictions, songs):\n",
    "    return baselinepredict(playlist, numPredictions, songs)"
   ]
  },
  {
   "cell_type": "code",
   "execution_count": 670,
   "id": "40c51c37",
   "metadata": {},
   "outputs": [],
   "source": [
    "def baselinegetPopularity():\n",
    "    popularity = defaultdict(int)\n",
    "    for playlist in Allplaylists['tracks']: \n",
    "        for track in playlist:\n",
    "            popularity[track] += 1\n",
    "    return popularity\n",
    "        \n",
    "def baselinepredict(playlist, numPredictions, songs, k=0):\n",
    "    scores = heapq.nlargest(numPredictions, baselinegetPopularity(), key=baselinegetPopularity().get) \n",
    "    # scores = [songs.loc[x]['track_name'] for x in scores]\n",
    "#    print(scores)\n",
    "    return scores\n",
    "    \n",
    "    "
   ]
  },
  {
   "cell_type": "code",
   "execution_count": 671,
   "id": "95bcc55d",
   "metadata": {},
   "outputs": [],
   "source": [
    "def evalAccuracy(numPlaylists, percentToObscure=0.5):\n",
    "    print()\n",
    "    print(f\"Selecting {numPlaylists} playlists to test and obscuring {int(percentToObscure * 100)}% of songs\")\n",
    "\n",
    "    def getAcc(FILE,pToObscure):\n",
    "        playlist = FILE\n",
    "\n",
    "        keptTracks, obscured = obscurePlaylist(playlist, pToObscure)\n",
    "        playlistSub = playlist.copy()\n",
    "        obscured = set(obscured)\n",
    "        playlistSub['tracks'] = keptTracks\n",
    "\n",
    "        predictions = baselinepredictNeighbour(playlistSub, 500, Alltracks)\n",
    "\n",
    "        overlap = [value for value in predictions if value in obscured]\n",
    "        return len(overlap)/len(obscured)\n",
    "\n",
    "    accuracies=0\n",
    "    for i, FILE in enumerate(tqdm(testplaylist_list,position=0, leave=True)):\n",
    "        accuracies=accuracies+getAcc(FILE,percentToObscure)\n",
    "\n",
    "    avgAcc = round(accuracies/30*100, 2)\n",
    "    print(f\"Using baseline classifier, we predicted {avgAcc}% of obscured tracks\")\n",
    "    return avgAcc"
   ]
  },
  {
   "cell_type": "code",
   "execution_count": 672,
   "id": "819241ac",
   "metadata": {},
   "outputs": [
    {
     "name": "stdout",
     "output_type": "stream",
     "text": [
      "\n",
      "Selecting 30 playlists to test and obscuring 50% of songs\n"
     ]
    },
    {
     "name": "stderr",
     "output_type": "stream",
     "text": [
      "100%|██████████████████████████████████████████████████████████████████████████████████| 30/30 [00:57<00:00,  1.91s/it]"
     ]
    },
    {
     "name": "stdout",
     "output_type": "stream",
     "text": [
      "Using baseline classifier, we predicted 21.52% of obscured tracks\n"
     ]
    },
    {
     "name": "stderr",
     "output_type": "stream",
     "text": [
      "\n"
     ]
    }
   ],
   "source": [
    "Baseline_acc = evalAccuracy(30)"
   ]
  },
  {
   "cell_type": "markdown",
   "id": "f3ee6a27",
   "metadata": {},
   "source": [
    "***Nearest Neighbor Classifier***"
   ]
  },
  {
   "cell_type": "code",
   "execution_count": 673,
   "id": "e5e0e39c",
   "metadata": {},
   "outputs": [],
   "source": [
    "\n",
    "def getPlaylistsFromNeighbors(neighbours, pid):\n",
    "    \"\"\"\n",
    "    \"\"\"\n",
    "    neighbours = list(filter(lambda x: x != pid, neighbours))\n",
    "    return [Allplaylists.loc[x] for x in neighbours]\n",
    "\n",
    "def getPlaylistTracks(playlist, songs):\n",
    "    return [songs.loc[x] for x in playlist[\"tracks\"]]\n",
    "\n",
    "def getPredictionsFromTracks(tracks, numPredictions, pTracks):\n",
    "    \"\"\"\n",
    "    \"\"\"\n",
    "    pTracks = set(pTracks)\n",
    "    songs = defaultdict(int)\n",
    "    for i, playlist in enumerate(tracks): \n",
    "        for song in playlist:\n",
    "            track_uri = song['track_uri'].split(\":\")[2]\n",
    "            if track_uri not in pTracks:\n",
    "                songs[track_uri] += (1/(i+1))\n",
    "    scores = heapq.nlargest(numPredictions, songs, key=songs.get) \n",
    "    return scores\n",
    "    # return list(predictedSet)\n",
    "\n",
    "def playlistToSparseMatrixEntry(playlist, songs):\n",
    "    \"\"\"\n",
    "    Converts a playlist with list of songs\n",
    "    into a sparse matrix with just one row\n",
    "    \"\"\"\n",
    "    # print(songs.iloc[1:5])\n",
    "    playlistMtrx = dok_matrix((1, len(songs)))\n",
    "    tracks = [songs.loc[str(x)][\"sparse_id\"] for x in list(playlist[\"tracks\"])]\n",
    "    playlistMtrx[0, tracks] = 1\n",
    "    return playlistMtrx.tocsr()\n",
    "\n",
    "def NNpredict(playlist, numPredictions, songs, numNeighbours):\n",
    "    model = NearestNeighbors(n_neighbors=60, metric='cosine')\n",
    "#    print(f\"Training Nearest Neighbors classifier\")\n",
    "    model.fit(SparsePL)\n",
    "    pid, pTracks = playlist[\"pid\"], playlist[\"tracks\"]\n",
    "    sparseX = playlistToSparseMatrixEntry(playlist, songs)\n",
    "    neighbors = model.kneighbors(X=sparseX, return_distance=False, n_neighbors=numNeighbours)[0]\n",
    "    playlists = getPlaylistsFromNeighbors(neighbors, pid)\n",
    "    tracks = [getPlaylistTracks(x, songs) for x in playlists]\n",
    "    predictions = getPredictionsFromTracks(tracks, numPredictions, pTracks)\n",
    "    return predictions"
   ]
  },
  {
   "cell_type": "code",
   "execution_count": 674,
   "id": "34b80769",
   "metadata": {},
   "outputs": [],
   "source": [
    "def NNevalAccuracy(numPlaylists, nneighbors, percentToObscure=0.5):\n",
    "    print()\n",
    "    print(f\"Training Nearest Neighbors classifier\")\n",
    "\n",
    "    def NNgetAcc(FILE,pToObscure):\n",
    "        playlist = FILE\n",
    "\n",
    "        keptTracks, obscured = obscurePlaylist(playlist, pToObscure)\n",
    "        playlistSub = playlist.copy()\n",
    "        obscured = set(obscured)\n",
    "        playlistSub['tracks'] = keptTracks\n",
    "\n",
    "        predictions = NNpredict(playlistSub, 500, Alltracks, nneighbors)\n",
    "\n",
    "        overlap = [value for value in predictions if value in obscured]\n",
    "        return len(overlap)/len(obscured)\n",
    "\n",
    "    accuracies=0\n",
    "    for i, FILE in enumerate(tqdm(testplaylist_list, position=0, leave=True)):\n",
    "        accuracies=accuracies+NNgetAcc(FILE,percentToObscure)\n",
    "\n",
    "    avgAcc = round(accuracies/30*100, 2)\n",
    "    print(f\"Using NN classifier, we predicted {avgAcc}% of obscured tracks when neighbors = {nneighbors}\")\n",
    "    return avgAcc"
   ]
  },
  {
   "cell_type": "code",
   "execution_count": 675,
   "id": "aa4e544d",
   "metadata": {},
   "outputs": [
    {
     "name": "stdout",
     "output_type": "stream",
     "text": [
      "\n",
      "Training Nearest Neighbors classifier\n"
     ]
    },
    {
     "name": "stderr",
     "output_type": "stream",
     "text": [
      "100%|██████████████████████████████████████████████████████████████████████████████████| 30/30 [00:08<00:00,  3.61it/s]\n"
     ]
    },
    {
     "name": "stdout",
     "output_type": "stream",
     "text": [
      "Using NN classifier, we predicted 16.04% of obscured tracks when neighbors = 1\n",
      "\n",
      "Training Nearest Neighbors classifier\n"
     ]
    },
    {
     "name": "stderr",
     "output_type": "stream",
     "text": [
      "100%|██████████████████████████████████████████████████████████████████████████████████| 30/30 [00:07<00:00,  3.79it/s]\n"
     ]
    },
    {
     "name": "stdout",
     "output_type": "stream",
     "text": [
      "Using NN classifier, we predicted 32.18% of obscured tracks when neighbors = 3\n",
      "\n",
      "Training Nearest Neighbors classifier\n"
     ]
    },
    {
     "name": "stderr",
     "output_type": "stream",
     "text": [
      "100%|██████████████████████████████████████████████████████████████████████████████████| 30/30 [00:10<00:00,  2.74it/s]\n"
     ]
    },
    {
     "name": "stdout",
     "output_type": "stream",
     "text": [
      "Using NN classifier, we predicted 35.79% of obscured tracks when neighbors = 5\n",
      "\n",
      "Training Nearest Neighbors classifier\n"
     ]
    },
    {
     "name": "stderr",
     "output_type": "stream",
     "text": [
      "100%|██████████████████████████████████████████████████████████████████████████████████| 30/30 [00:08<00:00,  3.59it/s]\n"
     ]
    },
    {
     "name": "stdout",
     "output_type": "stream",
     "text": [
      "Using NN classifier, we predicted 41.16% of obscured tracks when neighbors = 7\n",
      "\n",
      "Training Nearest Neighbors classifier\n"
     ]
    },
    {
     "name": "stderr",
     "output_type": "stream",
     "text": [
      "100%|██████████████████████████████████████████████████████████████████████████████████| 30/30 [00:08<00:00,  3.47it/s]\n"
     ]
    },
    {
     "name": "stdout",
     "output_type": "stream",
     "text": [
      "Using NN classifier, we predicted 48.26% of obscured tracks when neighbors = 9\n",
      "\n",
      "Training Nearest Neighbors classifier\n"
     ]
    },
    {
     "name": "stderr",
     "output_type": "stream",
     "text": [
      "100%|██████████████████████████████████████████████████████████████████████████████████| 30/30 [00:08<00:00,  3.37it/s]\n"
     ]
    },
    {
     "name": "stdout",
     "output_type": "stream",
     "text": [
      "Using NN classifier, we predicted 50.31% of obscured tracks when neighbors = 11\n",
      "\n",
      "Training Nearest Neighbors classifier\n"
     ]
    },
    {
     "name": "stderr",
     "output_type": "stream",
     "text": [
      "100%|██████████████████████████████████████████████████████████████████████████████████| 30/30 [00:09<00:00,  3.32it/s]\n"
     ]
    },
    {
     "name": "stdout",
     "output_type": "stream",
     "text": [
      "Using NN classifier, we predicted 54.38% of obscured tracks when neighbors = 13\n",
      "\n",
      "Training Nearest Neighbors classifier\n"
     ]
    },
    {
     "name": "stderr",
     "output_type": "stream",
     "text": [
      "100%|██████████████████████████████████████████████████████████████████████████████████| 30/30 [00:09<00:00,  3.14it/s]\n"
     ]
    },
    {
     "name": "stdout",
     "output_type": "stream",
     "text": [
      "Using NN classifier, we predicted 56.53% of obscured tracks when neighbors = 15\n",
      "\n",
      "Training Nearest Neighbors classifier\n"
     ]
    },
    {
     "name": "stderr",
     "output_type": "stream",
     "text": [
      "100%|██████████████████████████████████████████████████████████████████████████████████| 30/30 [00:09<00:00,  3.14it/s]\n"
     ]
    },
    {
     "name": "stdout",
     "output_type": "stream",
     "text": [
      "Using NN classifier, we predicted 53.55% of obscured tracks when neighbors = 17\n",
      "\n",
      "Training Nearest Neighbors classifier\n"
     ]
    },
    {
     "name": "stderr",
     "output_type": "stream",
     "text": [
      "100%|██████████████████████████████████████████████████████████████████████████████████| 30/30 [00:09<00:00,  3.04it/s]\n"
     ]
    },
    {
     "name": "stdout",
     "output_type": "stream",
     "text": [
      "Using NN classifier, we predicted 58.56% of obscured tracks when neighbors = 19\n",
      "\n",
      "Training Nearest Neighbors classifier\n"
     ]
    },
    {
     "name": "stderr",
     "output_type": "stream",
     "text": [
      "100%|██████████████████████████████████████████████████████████████████████████████████| 30/30 [00:12<00:00,  2.33it/s]\n"
     ]
    },
    {
     "name": "stdout",
     "output_type": "stream",
     "text": [
      "Using NN classifier, we predicted 56.75% of obscured tracks when neighbors = 21\n",
      "\n",
      "Training Nearest Neighbors classifier\n"
     ]
    },
    {
     "name": "stderr",
     "output_type": "stream",
     "text": [
      "100%|██████████████████████████████████████████████████████████████████████████████████| 30/30 [00:10<00:00,  2.88it/s]\n"
     ]
    },
    {
     "name": "stdout",
     "output_type": "stream",
     "text": [
      "Using NN classifier, we predicted 61.81% of obscured tracks when neighbors = 23\n",
      "\n",
      "Training Nearest Neighbors classifier\n"
     ]
    },
    {
     "name": "stderr",
     "output_type": "stream",
     "text": [
      "100%|██████████████████████████████████████████████████████████████████████████████████| 30/30 [00:10<00:00,  2.77it/s]\n"
     ]
    },
    {
     "name": "stdout",
     "output_type": "stream",
     "text": [
      "Using NN classifier, we predicted 62.13% of obscured tracks when neighbors = 25\n",
      "\n",
      "Training Nearest Neighbors classifier\n"
     ]
    },
    {
     "name": "stderr",
     "output_type": "stream",
     "text": [
      "100%|██████████████████████████████████████████████████████████████████████████████████| 30/30 [00:14<00:00,  2.13it/s]\n"
     ]
    },
    {
     "name": "stdout",
     "output_type": "stream",
     "text": [
      "Using NN classifier, we predicted 58.13% of obscured tracks when neighbors = 27\n",
      "\n",
      "Training Nearest Neighbors classifier\n"
     ]
    },
    {
     "name": "stderr",
     "output_type": "stream",
     "text": [
      "100%|██████████████████████████████████████████████████████████████████████████████████| 30/30 [00:11<00:00,  2.69it/s]\n"
     ]
    },
    {
     "name": "stdout",
     "output_type": "stream",
     "text": [
      "Using NN classifier, we predicted 58.9% of obscured tracks when neighbors = 29\n",
      "\n",
      "Training Nearest Neighbors classifier\n"
     ]
    },
    {
     "name": "stderr",
     "output_type": "stream",
     "text": [
      "100%|██████████████████████████████████████████████████████████████████████████████████| 30/30 [00:14<00:00,  2.08it/s]\n"
     ]
    },
    {
     "name": "stdout",
     "output_type": "stream",
     "text": [
      "Using NN classifier, we predicted 63.92% of obscured tracks when neighbors = 31\n",
      "\n",
      "Training Nearest Neighbors classifier\n"
     ]
    },
    {
     "name": "stderr",
     "output_type": "stream",
     "text": [
      "100%|██████████████████████████████████████████████████████████████████████████████████| 30/30 [00:12<00:00,  2.42it/s]\n"
     ]
    },
    {
     "name": "stdout",
     "output_type": "stream",
     "text": [
      "Using NN classifier, we predicted 60.62% of obscured tracks when neighbors = 33\n",
      "\n",
      "Training Nearest Neighbors classifier\n"
     ]
    },
    {
     "name": "stderr",
     "output_type": "stream",
     "text": [
      "100%|██████████████████████████████████████████████████████████████████████████████████| 30/30 [00:14<00:00,  2.01it/s]\n"
     ]
    },
    {
     "name": "stdout",
     "output_type": "stream",
     "text": [
      "Using NN classifier, we predicted 63.02% of obscured tracks when neighbors = 35\n",
      "\n",
      "Training Nearest Neighbors classifier\n"
     ]
    },
    {
     "name": "stderr",
     "output_type": "stream",
     "text": [
      "100%|██████████████████████████████████████████████████████████████████████████████████| 30/30 [00:12<00:00,  2.35it/s]\n"
     ]
    },
    {
     "name": "stdout",
     "output_type": "stream",
     "text": [
      "Using NN classifier, we predicted 65.85% of obscured tracks when neighbors = 37\n",
      "\n",
      "Training Nearest Neighbors classifier\n"
     ]
    },
    {
     "name": "stderr",
     "output_type": "stream",
     "text": [
      "100%|██████████████████████████████████████████████████████████████████████████████████| 30/30 [00:16<00:00,  1.83it/s]\n"
     ]
    },
    {
     "name": "stdout",
     "output_type": "stream",
     "text": [
      "Using NN classifier, we predicted 62.48% of obscured tracks when neighbors = 39\n",
      "\n",
      "Training Nearest Neighbors classifier\n"
     ]
    },
    {
     "name": "stderr",
     "output_type": "stream",
     "text": [
      "100%|██████████████████████████████████████████████████████████████████████████████████| 30/30 [00:16<00:00,  1.85it/s]\n"
     ]
    },
    {
     "name": "stdout",
     "output_type": "stream",
     "text": [
      "Using NN classifier, we predicted 63.92% of obscured tracks when neighbors = 41\n",
      "\n",
      "Training Nearest Neighbors classifier\n"
     ]
    },
    {
     "name": "stderr",
     "output_type": "stream",
     "text": [
      "100%|██████████████████████████████████████████████████████████████████████████████████| 30/30 [00:13<00:00,  2.15it/s]\n"
     ]
    },
    {
     "name": "stdout",
     "output_type": "stream",
     "text": [
      "Using NN classifier, we predicted 61.76% of obscured tracks when neighbors = 43\n",
      "\n",
      "Training Nearest Neighbors classifier\n"
     ]
    },
    {
     "name": "stderr",
     "output_type": "stream",
     "text": [
      "100%|██████████████████████████████████████████████████████████████████████████████████| 30/30 [00:16<00:00,  1.82it/s]\n"
     ]
    },
    {
     "name": "stdout",
     "output_type": "stream",
     "text": [
      "Using NN classifier, we predicted 62.62% of obscured tracks when neighbors = 45\n",
      "\n",
      "Training Nearest Neighbors classifier\n"
     ]
    },
    {
     "name": "stderr",
     "output_type": "stream",
     "text": [
      "100%|██████████████████████████████████████████████████████████████████████████████████| 30/30 [00:17<00:00,  1.76it/s]\n"
     ]
    },
    {
     "name": "stdout",
     "output_type": "stream",
     "text": [
      "Using NN classifier, we predicted 62.25% of obscured tracks when neighbors = 47\n",
      "\n",
      "Training Nearest Neighbors classifier\n"
     ]
    },
    {
     "name": "stderr",
     "output_type": "stream",
     "text": [
      "100%|██████████████████████████████████████████████████████████████████████████████████| 30/30 [00:17<00:00,  1.74it/s]\n"
     ]
    },
    {
     "name": "stdout",
     "output_type": "stream",
     "text": [
      "Using NN classifier, we predicted 62.6% of obscured tracks when neighbors = 49\n",
      "\n",
      "Training Nearest Neighbors classifier\n"
     ]
    },
    {
     "name": "stderr",
     "output_type": "stream",
     "text": [
      "100%|██████████████████████████████████████████████████████████████████████████████████| 30/30 [00:17<00:00,  1.69it/s]\n"
     ]
    },
    {
     "name": "stdout",
     "output_type": "stream",
     "text": [
      "Using NN classifier, we predicted 65.19% of obscured tracks when neighbors = 51\n",
      "\n",
      "Training Nearest Neighbors classifier\n"
     ]
    },
    {
     "name": "stderr",
     "output_type": "stream",
     "text": [
      "100%|██████████████████████████████████████████████████████████████████████████████████| 30/30 [00:17<00:00,  1.67it/s]\n"
     ]
    },
    {
     "name": "stdout",
     "output_type": "stream",
     "text": [
      "Using NN classifier, we predicted 62.55% of obscured tracks when neighbors = 53\n",
      "\n",
      "Training Nearest Neighbors classifier\n"
     ]
    },
    {
     "name": "stderr",
     "output_type": "stream",
     "text": [
      "100%|██████████████████████████████████████████████████████████████████████████████████| 30/30 [00:18<00:00,  1.63it/s]\n"
     ]
    },
    {
     "name": "stdout",
     "output_type": "stream",
     "text": [
      "Using NN classifier, we predicted 61.92% of obscured tracks when neighbors = 55\n",
      "\n",
      "Training Nearest Neighbors classifier\n"
     ]
    },
    {
     "name": "stderr",
     "output_type": "stream",
     "text": [
      "100%|██████████████████████████████████████████████████████████████████████████████████| 30/30 [00:18<00:00,  1.61it/s]\n"
     ]
    },
    {
     "name": "stdout",
     "output_type": "stream",
     "text": [
      "Using NN classifier, we predicted 64.01% of obscured tracks when neighbors = 57\n",
      "\n",
      "Training Nearest Neighbors classifier\n"
     ]
    },
    {
     "name": "stderr",
     "output_type": "stream",
     "text": [
      "100%|██████████████████████████████████████████████████████████████████████████████████| 30/30 [00:18<00:00,  1.59it/s]"
     ]
    },
    {
     "name": "stdout",
     "output_type": "stream",
     "text": [
      "Using NN classifier, we predicted 65.62% of obscured tracks when neighbors = 59\n"
     ]
    },
    {
     "name": "stderr",
     "output_type": "stream",
     "text": [
      "\n"
     ]
    }
   ],
   "source": [
    "NNacc = []\n",
    "for i in range(1,60,2):\n",
    "    NNacc.append(NNevalAccuracy(30, i))"
   ]
  },
  {
   "cell_type": "code",
   "execution_count": 676,
   "id": "c96e97be",
   "metadata": {},
   "outputs": [
    {
     "data": {
      "text/plain": [
       "[16.04,\n",
       " 32.18,\n",
       " 35.79,\n",
       " 41.16,\n",
       " 48.26,\n",
       " 50.31,\n",
       " 54.38,\n",
       " 56.53,\n",
       " 53.55,\n",
       " 58.56,\n",
       " 56.75,\n",
       " 61.81,\n",
       " 62.13,\n",
       " 58.13,\n",
       " 58.9,\n",
       " 63.92,\n",
       " 60.62,\n",
       " 63.02,\n",
       " 65.85,\n",
       " 62.48,\n",
       " 63.92,\n",
       " 61.76,\n",
       " 62.62,\n",
       " 62.25,\n",
       " 62.6,\n",
       " 65.19,\n",
       " 62.55,\n",
       " 61.92,\n",
       " 64.01,\n",
       " 65.62]"
      ]
     },
     "execution_count": 676,
     "metadata": {},
     "output_type": "execute_result"
    }
   ],
   "source": [
    "NNacc"
   ]
  },
  {
   "cell_type": "code",
   "execution_count": null,
   "id": "c7c27b3f",
   "metadata": {},
   "outputs": [],
   "source": []
  }
 ],
 "metadata": {
  "kernelspec": {
   "display_name": "Python 3 (ipykernel)",
   "language": "python",
   "name": "python3"
  },
  "language_info": {
   "codemirror_mode": {
    "name": "ipython",
    "version": 3
   },
   "file_extension": ".py",
   "mimetype": "text/x-python",
   "name": "python",
   "nbconvert_exporter": "python",
   "pygments_lexer": "ipython3",
   "version": "3.9.7"
  }
 },
 "nbformat": 4,
 "nbformat_minor": 5
}
